{
 "cells": [
  {
   "cell_type": "code",
   "execution_count": 27,
   "id": "197ecb88",
   "metadata": {},
   "outputs": [],
   "source": [
    "import pandas as pd\n",
    "import numpy as np\n",
    "import matplotlib.pyplot as plt\n",
    "import json\n",
    "import csv\n",
    "import os"
   ]
  },
  {
   "cell_type": "code",
   "execution_count": 28,
   "id": "909953c1",
   "metadata": {},
   "outputs": [],
   "source": [
    "path_truth = \"/home/serodio/Downloads/archive/labels.csv\"\n",
    "\n",
    "truth = {}\n",
    "with open(path_truth) as f:\n",
    "    reader = csv.reader(f)\n",
    "    for row in reader:\n",
    "        if row[0] == \"id\":\n",
    "            continue\n",
    "        truth[f\"seq_{format(int(row[0]), '06')}.jpg\"] = int(row[1])"
   ]
  },
  {
   "cell_type": "code",
   "execution_count": 29,
   "id": "317db74b",
   "metadata": {},
   "outputs": [],
   "source": [
    "csv_save_cloud = \"cloud/local_cloud_1fac85f4-8538-4205-860f-8745f7687861\"\n",
    "csv_predict_cloud = \"cloud/cloud_e1f4fdb7-e302-438c-99f1-497a1a10c168\"\n",
    "csv_save_edge = \"edge/local-edge_06b95dfb-134d-4d12-a527-6bcb4b7219cb\"\n",
    "csv_predict_edge = \"edge/edge_77e9939d-a0ee-42b5-ab0b-e7b2e71b3954\""
   ]
  },
  {
   "cell_type": "code",
   "execution_count": 30,
   "id": "d12d1855",
   "metadata": {},
   "outputs": [],
   "source": [
    "def get_metrics(results, req_metrics):\n",
    "    time_req = []\n",
    "    time_server = []\n",
    "    pred = []\n",
    "    truth_list = []\n",
    "    for result in results:\n",
    "        tag = result[\"tag\"]\n",
    "        time_req.append(req_metrics[tag][\"request_time\"])\n",
    "        time_server.append(result[\"time_server\"])\n",
    "        pred.append(result[\"response\"].get(\"person\", 0))\n",
    "        truth_list.append(truth[tag])\n",
    "    time_req = np.array(time_req)\n",
    "    time_server = np.array(time_server)\n",
    "    pred = np.array(pred)\n",
    "    truth_list = np.array(truth_list)\n",
    "    diff = pred-truth_list\n",
    "    correct = diff.size - np.count_nonzero(diff)\n",
    "    max_diff = max(np.max(diff), np.max(-diff))\n",
    "    return (\n",
    "        np.sqrt(np.mean((diff)**2)),\n",
    "        np.mean(np.abs(diff)),\n",
    "        correct,\n",
    "        max_diff,\n",
    "        np.mean(time_req - time_server),\n",
    "        np.std(time_req - time_server),\n",
    "        np.mean(time_server),\n",
    "        np.std(time_server),\n",
    "        np.mean(time_req),\n",
    "        np.std(time_req)\n",
    "    )\n",
    "\n",
    "def get_all_metrics(metrics_path, metrics_file):\n",
    "    metrics = {}\n",
    "    with open(os.path.join(metrics_path, metrics_file), \"r\") as f:\n",
    "        run_dict = json.load(f)\n",
    "    for run, run_info in run_dict.items():\n",
    "        with open(os.path.join(metrics_path, f\"{run_info['id']}.json\"), \"r\") as f:\n",
    "            exp_results = json.load(f)\n",
    "        \n",
    "        metrics[run] = get_metrics(exp_results, run_info[\"requests\"])\n",
    "    return metrics\n",
    "        \n",
    "def csv_metrics_save(csv_path, metrics_path):\n",
    "    csv_content = {}\n",
    "    with open(f\"{csv_path}.csv\", \"r\") as f:\n",
    "        reader = csv.reader(f)\n",
    "        for row in reader:\n",
    "            if row[0] == \"start\":\n",
    "                continue\n",
    "            csv_content[int(row[0])] = [int(row[2])-int(row[1]), int(row[3])-int(row[2]),int(row[4])-int(row[0])]\n",
    "            \n",
    "    with open(os.path.join(metrics_path, f\"{csv_path.split('_')[-1]}.json\"), \"r\") as f:\n",
    "        exp_results = json.load(f)\n",
    "    pred = []\n",
    "    time_req = []\n",
    "    total = []\n",
    "    time_server = []\n",
    "    for result in exp_results:\n",
    "        tag = int(result[\"time_device\"])\n",
    "        if tag not in csv_content:\n",
    "            continue\n",
    "        pred.append(csv_content[tag][0]/1000)\n",
    "        time_req.append(csv_content[tag][1]/1000)\n",
    "        total.append(csv_content[tag][2]/1000)\n",
    "        time_server.append(result[\"time_server\"])\n",
    "    time_req = np.array(time_req)\n",
    "    time_server = np.array(time_server)\n",
    "    pred = np.array(pred)\n",
    "    total = np.array(total)\n",
    "    return (\n",
    "            np.mean(time_req - time_server),\n",
    "            np.std(time_req - time_server),\n",
    "            np.mean(pred),\n",
    "            np.std(pred),\n",
    "            np.mean(total),\n",
    "            np.std(total)\n",
    "        )\n",
    "        \n",
    "def csv_metrics_predict(csv_path, metrics_path):\n",
    "    csv_content = {}\n",
    "    with open(f\"{csv_path}.csv\", \"r\") as f:\n",
    "        reader = csv.reader(f)\n",
    "        for row in reader:\n",
    "            if row[0] == \"start\":\n",
    "                continue\n",
    "            csv_content[int(row[0])] = [int(row[2])-int(row[1]), int(row[3])-int(row[0])]\n",
    "            \n",
    "    with open(os.path.join(metrics_path, f\"{csv_path.split('_')[-1]}.json\"), \"r\") as f:\n",
    "        exp_results = json.load(f)\n",
    "    time_req = []\n",
    "    total = []\n",
    "    time_server = []\n",
    "    for result in exp_results:\n",
    "        tag = int(result[\"time_device\"])\n",
    "        if tag not in csv_content:\n",
    "            continue\n",
    "        time_req.append(csv_content[tag][0]/1000)\n",
    "        total.append(csv_content[tag][1]/1000)\n",
    "        time_server.append(result[\"time_server\"])\n",
    "    time_req = np.array(time_req)\n",
    "    time_server = np.array(time_server)\n",
    "    total = np.array(total)\n",
    "    return (\n",
    "            np.mean(time_req - time_server),\n",
    "            np.std(time_req - time_server),\n",
    "            np.median(total),\n",
    "            np.std(total)\n",
    "        )\n",
    "        "
   ]
  },
  {
   "cell_type": "code",
   "execution_count": 31,
   "id": "287e772a",
   "metadata": {},
   "outputs": [],
   "source": [
    "plt.rcParams[\"figure.figsize\"] = (10,6) # config figure size"
   ]
  },
  {
   "cell_type": "code",
   "execution_count": 55,
   "id": "ef4ae568",
   "metadata": {},
   "outputs": [],
   "source": [
    "# Execução com 2000 amostras\n",
    "edge = get_all_metrics(\"edge\", \"edge_metrics.json\")\n",
    "cloud = get_all_metrics(\"cloud\", \"cloud_metrics.json\")\n",
    "\n",
    "labels = ['yolov5n', 'yolov5s', 'yolov5m', 'yolov5l', 'yolov5x']\n",
    "rmse_edge = []\n",
    "rmse_cloud = []\n",
    "time_com_edge = []\n",
    "err_com_edge = []\n",
    "time_com_cloud = []\n",
    "err_com_cloud = []\n",
    "time_proc_edge = []\n",
    "time_proc_cloud = []\n",
    "\n",
    "for label in labels:\n",
    "    rmse_edge.append(edge[label][0] if label in edge else 0)\n",
    "    rmse_cloud.append(cloud[label][0] if label in cloud else 0)\n",
    "    time_com_edge.append(edge[label][4] if label in edge else 0)\n",
    "    time_com_cloud.append(cloud[label][4] if label in cloud else 0)\n",
    "    time_proc_edge.append(edge[label][6] if label in edge else 0)\n",
    "    time_proc_cloud.append(cloud[label][6] if label in cloud else 0)\n",
    "\n"
   ]
  },
  {
   "cell_type": "code",
   "execution_count": 57,
   "id": "02781eec",
   "metadata": {},
   "outputs": [
    {
     "data": {
      "image/png": "[encoded data removed]",
      "text/plain": [
       "<Figure size 720x432 with 1 Axes>"
      ]
     },
     "metadata": {
      "needs_background": "light"
     },
     "output_type": "display_data"
    }
   ],
   "source": [
    "x = np.arange(len(labels))\n",
    "width = 0.35  \n",
    "\n",
    "fig, ax = plt.subplots()\n",
    "rects1 = ax.bar(x - width/2, rmse_edge, width, label='Borda')\n",
    "rects2 = ax.bar(x + width/2, rmse_cloud, width, label='Nuvem')\n",
    "\n",
    "ax.set_ylabel('RMSE')\n",
    "ax.set_title('RMSE do número de pessoas detectadas')\n",
    "ax.set_xticks(x)\n",
    "ax.set_xticklabels(labels)\n",
    "ax.legend()\n",
    "\n",
    "\n",
    "fig.tight_layout()\n",
    "\n",
    "plt.show()"
   ]
  },
  {
   "cell_type": "code",
   "execution_count": 65,
   "id": "5c7b05a1",
   "metadata": {},
   "outputs": [
    {
     "data": {
      "text/plain": [
       "[13.895197011917464,\n",
       " 12.336308199781651,\n",
       " 12.466795899508421,\n",
       " 12.313549447661304,\n",
       " 0]"
      ]
     },
     "execution_count": 65,
     "metadata": {},
     "output_type": "execute_result"
    }
   ],
   "source": [
    "rmse_edge"
   ]
  },
  {
   "cell_type": "code",
   "execution_count": 66,
   "id": "b16834b4",
   "metadata": {},
   "outputs": [
    {
     "data": {
      "text/plain": [
       "[14.15528169977553,\n",
       " 12.842896869476139,\n",
       " 12.88838624498816,\n",
       " 12.544700076127766,\n",
       " 15.255654689327496]"
      ]
     },
     "execution_count": 66,
     "metadata": {},
     "output_type": "execute_result"
    }
   ],
   "source": [
    "rmse_cloud"
   ]
  },
  {
   "cell_type": "code",
   "execution_count": 80,
   "id": "710767fc",
   "metadata": {},
   "outputs": [],
   "source": [
    "# Execução com 100 amostras\n",
    "edge = get_all_metrics(\"edge_1\", \"edge_metrics.json\")\n",
    "cloud = get_all_metrics(\"cloud_1\", \"cloud_metrics.json\")\n",
    "\n",
    "labels = ['yolov5n', 'yolov5s', 'yolov5m', 'yolov5l', 'yolov5x']\n",
    "rmse_edge = []\n",
    "rmse_cloud = []\n",
    "time_com_edge = []\n",
    "err_com_edge = []\n",
    "time_com_cloud = []\n",
    "err_com_cloud = []\n",
    "time_proc_edge = []\n",
    "time_proc_cloud = []\n",
    "\n",
    "for label in labels:\n",
    "    rmse_edge.append(edge[label][0] if label in edge else 0)\n",
    "    rmse_cloud.append(cloud[label][0] if label in cloud else 0)\n",
    "    time_com_edge.append(edge[label][4] if label in edge else 0)\n",
    "    time_com_cloud.append(cloud[label][4] if label in cloud else 0)\n",
    "    time_proc_edge.append(edge[label][6] if label in edge else 0)\n",
    "    time_proc_cloud.append(cloud[label][6] if label in cloud else 0)"
   ]
  },
  {
   "cell_type": "code",
   "execution_count": 81,
   "id": "f25fa119",
   "metadata": {},
   "outputs": [
    {
     "data": {
      "image/png": "[encoded data removed]",
      "text/plain": [
       "<Figure size 720x432 with 1 Axes>"
      ]
     },
     "metadata": {
      "needs_background": "light"
     },
     "output_type": "display_data"
    }
   ],
   "source": [
    "x = np.arange(len(labels))\n",
    "width = 0.35 \n",
    "\n",
    "fig, ax = plt.subplots()\n",
    "rects1 = ax.bar(x - width/2, time_com_edge, width, label='Borda - Comunicação', color=\"#104a8e\")\n",
    "rects1_1 = ax.bar(x - width/2, time_proc_edge, width, bottom=time_com_edge, label='Borda - Processamento', color=\"#59bfff\")\n",
    "rects2 = ax.bar(x + width/2, time_com_cloud, width, label='Nuvem - Comunicação', color=\"#4b6043\")\n",
    "rects2_2 = ax.bar(x + width/2, time_proc_cloud, width, bottom=time_com_cloud, label='Nuvem - Processamento', color=\"#b3cf99\")\n",
    "\n",
    "ax.set_ylabel('Tempo (s)')\n",
    "ax.set_title('Tempo Médio em segundos')\n",
    "ax.set_xticks(x)\n",
    "ax.set_xticklabels(labels)\n",
    "ax.legend()\n",
    "\n",
    "\n",
    "fig.tight_layout()\n",
    "\n",
    "plt.show()"
   ]
  },
  {
   "cell_type": "code",
   "execution_count": 85,
   "id": "2ae5983b",
   "metadata": {},
   "outputs": [
    {
     "name": "stderr",
     "output_type": "stream",
     "text": [
      "/tmp/ipykernel_1757247/3053821548.py:1: RuntimeWarning: divide by zero encountered in true_divide\n",
      "  np.array(time_com_cloud)/np.array(time_com_edge)\n"
     ]
    },
    {
     "data": {
      "text/plain": [
       "array([4.76202344, 5.58318563, 3.40924254, 2.73278804,        inf])"
      ]
     },
     "execution_count": 85,
     "metadata": {},
     "output_type": "execute_result"
    }
   ],
   "source": [
    "np.array(time_com_cloud)/np.array(time_com_edge)"
   ]
  },
  {
   "cell_type": "code",
   "execution_count": 83,
   "id": "0d224a0e",
   "metadata": {},
   "outputs": [
    {
     "data": {
      "text/plain": [
       "[0.7613712118874537,\n",
       " 0.7920884430164006,\n",
       " 0.7765805978997378,\n",
       " 0.792126084730553,\n",
       " 0.807658721464104]"
      ]
     },
     "execution_count": 83,
     "metadata": {},
     "output_type": "execute_result"
    }
   ],
   "source": [
    "time_com_cloud"
   ]
  },
  {
   "cell_type": "code",
   "execution_count": 61,
   "id": "2fb1f940",
   "metadata": {},
   "outputs": [],
   "source": [
    "csv_save_cloud = \"cloud/local_cloud_1fac85f4-8538-4205-860f-8745f7687861\"\n",
    "csv_predict_cloud = \"cloud/cloud_49254778-dbd4-4bce-b39c-f3cd851b9337\"\n",
    "csv_save_edge = \"edge/local-edge_06b95dfb-134d-4d12-a527-6bcb4b7219cb\"\n",
    "csv_predict_edge = \"edge/edge_20009813-aa9d-4d67-8f16-75847212776d\""
   ]
  },
  {
   "cell_type": "code",
   "execution_count": 62,
   "id": "0a75ffd5",
   "metadata": {},
   "outputs": [],
   "source": [
    "labels = [\"borda\", \"nuvem\"]\n",
    "\n",
    "cloud_save = csv_metrics_save(csv_save_cloud, \"cloud\")\n",
    "cloud_predict = csv_metrics_predict(csv_predict_cloud, \"cloud\")\n",
    "edge_save = csv_metrics_save(csv_save_edge, \"edge\")\n",
    "edge_predict = csv_metrics_predict(csv_predict_edge, \"edge\")"
   ]
  },
  {
   "cell_type": "code",
   "execution_count": 63,
   "id": "c8ac4727",
   "metadata": {},
   "outputs": [
    {
     "data": {
      "text/plain": [
       "[0.08770967741935531, 0.08739285714285683]"
      ]
     },
     "execution_count": 63,
     "metadata": {},
     "output_type": "execute_result"
    }
   ],
   "source": [
    "[edge_save[4]-edge_save[0], cloud_save[4]-cloud_save[0]]"
   ]
  },
  {
   "cell_type": "code",
   "execution_count": 64,
   "id": "b64fc88b",
   "metadata": {},
   "outputs": [
    {
     "data": {
      "image/png": "[encoded data removed]",
      "text/plain": [
       "<Figure size 720x432 with 1 Axes>"
      ]
     },
     "metadata": {
      "needs_background": "light"
     },
     "output_type": "display_data"
    }
   ],
   "source": [
    "x = np.arange(len(labels))\n",
    "width = 0.3\n",
    "\n",
    "fig, ax = plt.subplots()\n",
    "rects1 = ax.bar(x - width/2, [edge_save[0], cloud_save[0]], width, label='Local Exp - Comunicação', color=\"#104a8e\")\n",
    "rects1_1 = ax.bar(x - width/2, [edge_save[4]-edge_save[0], cloud_save[4]-cloud_save[0]], width, bottom=[edge_save[0], cloud_save[0]], label='Local Exp - Processamento', color=\"#59bfff\")\n",
    "rects2 = ax.bar(x + width/2, [edge_predict[0], cloud_predict[0]], width, label='Remote Exp - Comunicação', color=\"#4b6043\")\n",
    "rects2_2 = ax.bar(x + width/2, [edge_predict[2]-edge_predict[0], cloud_predict[2]-cloud_predict[0]], width, bottom=[edge_predict[0], cloud_predict[0]], label='Remote Exp - Processamento', color=\"#b3cf99\")\n",
    "\n",
    "ax.set_ylabel('Tempo (s)')\n",
    "ax.set_title('Tempo Médio em segundos')\n",
    "ax.set_xticks(x)\n",
    "ax.set_xticklabels(labels)\n",
    "ax.legend()\n",
    "\n",
    "\n",
    "fig.tight_layout()\n",
    "\n",
    "plt.show()"
   ]
  },
  {
   "cell_type": "code",
   "execution_count": null,
   "id": "bc7ba2c2",
   "metadata": {},
   "outputs": [],
   "source": []
  },
  {
   "cell_type": "code",
   "execution_count": null,
   "id": "992b7e62",
   "metadata": {},
   "outputs": [],
   "source": []
  }
 ],
 "metadata": {
  "kernelspec": {
   "display_name": "Python 3 (ipykernel)",
   "language": "python",
   "name": "python3"
  },
  "language_info": {
   "codemirror_mode": {
    "name": "ipython",
    "version": 3
   },
   "file_extension": ".py",
   "mimetype": "text/x-python",
   "name": "python",
   "nbconvert_exporter": "python",
   "pygments_lexer": "ipython3",
   "version": "3.9.7"
  }
 },
 "nbformat": 4,
 "nbformat_minor": 5
}
